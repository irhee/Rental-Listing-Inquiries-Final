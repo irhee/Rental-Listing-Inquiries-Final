{
 "cells": [
  {
   "cell_type": "code",
   "execution_count": 1,
   "metadata": {},
   "outputs": [],
   "source": [
    "import seaborn as sns\n",
    "import numpy as np\n",
    "import datetime as dt\n",
    "import pandas as pd\n",
    "import matplotlib.pyplot as plt\n",
    "import math\n",
    "from sklearn import preprocessing\n",
    "import nltk as nltk\n",
    "import cv2\n",
    "import imageio\n",
    "from nltk.corpus import stopwords\n",
    "from nltk.tokenize import word_tokenize \n",
    "from nltk.draw.dispersion import dispersion_plot\n",
    "from sklearn.feature_extraction.text import CountVectorizer\n",
    "from sklearn.model_selection import train_test_split\n",
    "from sklearn.feature_extraction.text import TfidfVectorizer\n",
    "from sklearn.model_selection import KFold \n",
    "from sklearn.preprocessing import MinMaxScaler\n",
    "from sklearn.model_selection import cross_val_score\n",
    "from sklearn.model_selection import GridSearchCV\n",
    "from sklearn.model_selection import RandomizedSearchCV\n",
    "from sklearn.preprocessing import StandardScaler\n",
    "from sklearn.metrics import log_loss\n",
    "from sklearn.metrics import f1_score\n",
    "from sklearn.ensemble import AdaBoostClassifier\n",
    "from sklearn.datasets import make_classification\n",
    "from sklearn.datasets import make_blobs\n",
    "from sklearn.neighbors import NearestCentroid\n",
    "from sklearn.naive_bayes import BernoulliNB\n",
    "from sklearn.impute import SimpleImputer\n",
    "from sklearn.neighbors import KNeighborsClassifier\n",
    "\n",
    "from sklearn.model_selection import train_test_split\n",
    "from sklearn import datasets\n",
    "from sklearn import svm\n",
    "from sklearn.linear_model import LogisticRegression\n",
    "from sklearn.metrics import classification_report, confusion_matrix\n",
    "import warnings\n",
    "warnings.filterwarnings(\"ignore\")\n",
    "#                         category=DeprecationWarning)\n",
    "\n",
    "from sklearn.pipeline import Pipeline\n",
    "from sklearn.impute import SimpleImputer\n",
    "from sklearn.preprocessing import StandardScaler, OneHotEncoder\n",
    "from sklearn.compose import ColumnTransformer\n",
    "\n",
    "\n",
    "pd.set_option('display.max_rows', None)\n",
    "df = pd.read_json('./train.json')\n",
    "df_testSet = pd.read_json('./test.json', dtype={'listing_id': 'str'})"
   ]
  },
  {
   "cell_type": "code",
   "execution_count": 2,
   "metadata": {},
   "outputs": [],
   "source": [
    "df_testSet = pd.read_json('./test.json', dtype={'listing_id': 'str'})\n",
    "listingID = df_testSet['listing_id']"
   ]
  },
  {
   "cell_type": "markdown",
   "metadata": {},
   "source": [
    "## TRAINING\n"
   ]
  },
  {
   "cell_type": "markdown",
   "metadata": {},
   "source": [
    "### Preprocessing"
   ]
  },
  {
   "cell_type": "code",
   "execution_count": 3,
   "metadata": {},
   "outputs": [
    {
     "data": {
      "text/html": [
       "<div>\n",
       "<style scoped>\n",
       "    .dataframe tbody tr th:only-of-type {\n",
       "        vertical-align: middle;\n",
       "    }\n",
       "\n",
       "    .dataframe tbody tr th {\n",
       "        vertical-align: top;\n",
       "    }\n",
       "\n",
       "    .dataframe thead th {\n",
       "        text-align: right;\n",
       "    }\n",
       "</style>\n",
       "<table border=\"1\" class=\"dataframe\">\n",
       "  <thead>\n",
       "    <tr style=\"text-align: right;\">\n",
       "      <th></th>\n",
       "      <th>bathrooms</th>\n",
       "      <th>bedrooms</th>\n",
       "      <th>latitude</th>\n",
       "      <th>longitude</th>\n",
       "      <th>price</th>\n",
       "    </tr>\n",
       "  </thead>\n",
       "  <tbody>\n",
       "    <tr>\n",
       "      <td>4</td>\n",
       "      <td>1.0</td>\n",
       "      <td>1</td>\n",
       "      <td>40.7108</td>\n",
       "      <td>-73.9539</td>\n",
       "      <td>2400</td>\n",
       "    </tr>\n",
       "    <tr>\n",
       "      <td>6</td>\n",
       "      <td>1.0</td>\n",
       "      <td>2</td>\n",
       "      <td>40.7513</td>\n",
       "      <td>-73.9722</td>\n",
       "      <td>3800</td>\n",
       "    </tr>\n",
       "    <tr>\n",
       "      <td>9</td>\n",
       "      <td>1.0</td>\n",
       "      <td>2</td>\n",
       "      <td>40.7575</td>\n",
       "      <td>-73.9625</td>\n",
       "      <td>3495</td>\n",
       "    </tr>\n",
       "    <tr>\n",
       "      <td>15</td>\n",
       "      <td>1.0</td>\n",
       "      <td>0</td>\n",
       "      <td>40.7439</td>\n",
       "      <td>-73.9743</td>\n",
       "      <td>2795</td>\n",
       "    </tr>\n",
       "    <tr>\n",
       "      <td>19</td>\n",
       "      <td>1.0</td>\n",
       "      <td>0</td>\n",
       "      <td>40.7769</td>\n",
       "      <td>-73.9467</td>\n",
       "      <td>1945</td>\n",
       "    </tr>\n",
       "  </tbody>\n",
       "</table>\n",
       "</div>"
      ],
      "text/plain": [
       "    bathrooms  bedrooms  latitude  longitude  price\n",
       "4         1.0         1   40.7108   -73.9539   2400\n",
       "6         1.0         2   40.7513   -73.9722   3800\n",
       "9         1.0         2   40.7575   -73.9625   3495\n",
       "15        1.0         0   40.7439   -73.9743   2795\n",
       "19        1.0         0   40.7769   -73.9467   1945"
      ]
     },
     "execution_count": 3,
     "metadata": {},
     "output_type": "execute_result"
    }
   ],
   "source": [
    "df_price = df['price']  \n",
    "IQR = df_price.quantile(0.75)-df_price.quantile(0.25)\n",
    "upper = df_price.quantile(0.75)+IQR*1.5\n",
    "lower = df_price.quantile(0.25)-IQR*1.5 \n",
    "\n",
    "df1 = df[(df['price'] <upper) & (df['price'] >lower)]\n",
    "\n",
    "df_lat = df1['latitude']\n",
    "\n",
    "IQR = df_lat.quantile(0.75)-df_lat.quantile(0.25)\n",
    "upper = df_lat.quantile(0.75)+IQR*1.5\n",
    "lower = df_lat.quantile(0.25)-IQR*1.5\n",
    " \n",
    "df2 = df1[(df1['latitude']<upper) & (df1['latitude']>lower)]\n",
    "\n",
    "df_long = df2['longitude']\n",
    " \n",
    "IQR = df_long.quantile(0.75)-df_long.quantile(0.25)\n",
    "upper = df_long.quantile(0.75)+IQR*1.5\n",
    "lower = df_long.quantile(0.25)-IQR*1.5 \n",
    "df3 = df2[(df2['longitude'] >lower) & (df2['longitude']<upper)]\n",
    "\n",
    "df_bedrooms = df3['bedrooms']\n",
    " \n",
    "IQR = df_bedrooms.quantile(0.75)-df_bedrooms.quantile(0.25)\n",
    "upper = df_bedrooms.quantile(0.75)+IQR*1.5\n",
    "lower = max(df_bedrooms.quantile(0.25)-IQR*1.5, 0)\n",
    " \n",
    "df4 = df3[(df3['bedrooms'] >= lower) & (df3['bedrooms'] <= upper)]\n",
    "\n",
    "df_bathrooms = df4['bathrooms']\n",
    " \n",
    "IQR = df_bathrooms.quantile(0.75)-df_bathrooms.quantile(0.25)\n",
    "\n",
    "upper = math.ceil(df_bathrooms.quantile(0.75)+IQR*1.5)\n",
    "lower = max(df_bathrooms.quantile(0.25)-IQR*1.5, 0)\n",
    "average = sum(df_bathrooms) / len(df_bathrooms)\n",
    "\n",
    "df5 = df4[(df4['bathrooms'] >= lower) & (df4['bathrooms'] <= upper)]\n",
    "\n",
    "df6 = df5.drop(['listing_id','features','description', 'building_id', 'manager_id', 'building_id',\n",
    "                'created', 'display_address', 'street_address', 'photos', 'interest_level'], axis=1)\n",
    "X=df6\n",
    "y = df5[\"interest_level\"] \n",
    "\n",
    "X.head()\n"
   ]
  },
  {
   "cell_type": "markdown",
   "metadata": {},
   "source": [
    "### Analysis"
   ]
  },
  {
   "cell_type": "code",
   "execution_count": 4,
   "metadata": {},
   "outputs": [
    {
     "name": "stdout",
     "output_type": "stream",
     "text": [
      "0.6422288474474984\n",
      "0.62889705171457\n",
      "5.646456778875542\n"
     ]
    }
   ],
   "source": [
    "## predictions are in the order of HIGH LOW MEDIUM \n",
    "# Split labeled data into 60% training dataset and 40% test dataset\n",
    "X_train, X_test, y_train, y_test = train_test_split(X, y, test_size=0.30, random_state=0)\n",
    "  \n",
    "\n",
    "# clf = BernoulliNB(alpha=0, fit_prior=False)\n",
    "\n",
    "clf = KNeighborsClassifier(n_neighbors=3)\n",
    "clf.fit(X_train, y_train)\n",
    "scores = cross_val_score(clf, X, y, cv=5)\n",
    "\n",
    "# Predict labels on the test data using the trained classifier.\n",
    "predictions = clf.predict(X_test)\n",
    "\n",
    "# Calculate the F1 score by comparing predicted and actual labels.\n",
    "F1 = f1_score(y_test, predictions, average='weighted')\n",
    "\n",
    "y_prob = clf.predict_proba(X_test) \n",
    "logloss = log_loss(y_test, y_prob)\n",
    "\n",
    "\n",
    "print(np.mean(scores))\n",
    "print(F1)\n",
    "print(logloss)\n"
   ]
  },
  {
   "cell_type": "markdown",
   "metadata": {},
   "source": [
    "## Testing"
   ]
  },
  {
   "cell_type": "code",
   "execution_count": 5,
   "metadata": {},
   "outputs": [
    {
     "data": {
      "text/plain": [
       "0    7142618\n",
       "1    7210040\n",
       "2    7174566\n",
       "3    7191391\n",
       "5    7171695\n",
       "Name: listing_id, dtype: object"
      ]
     },
     "execution_count": 5,
     "metadata": {},
     "output_type": "execute_result"
    }
   ],
   "source": [
    "listingID = df_testSet['listing_id']\n",
    "df_testSet.shape\n",
    "\n",
    "listingID.head()"
   ]
  },
  {
   "cell_type": "code",
   "execution_count": 6,
   "metadata": {},
   "outputs": [
    {
     "data": {
      "text/plain": [
       "('description',\n",
       " (\"'building_id',\",\n",
       "  \"'manager_id','created',\",\n",
       "  \"'display_address',\",\n",
       "  \"'street_address',\",\n",
       "  \"'photos'],\",\n",
       "  'axis=1)'))"
      ]
     },
     "execution_count": 6,
     "metadata": {},
     "output_type": "execute_result"
    }
   ],
   "source": [
    "df_testSet = df_testSet.drop(columns=['listing_id','building_id','features','description','photos', 'manager_id','created','display_address','street_address'])\n",
    ",'description', 'building_id', 'manager_id','created', 'display_address', 'street_address', 'photos'], axis=1) "
   ]
  },
  {
   "cell_type": "code",
   "execution_count": 7,
   "metadata": {},
   "outputs": [
    {
     "data": {
      "text/html": [
       "<div>\n",
       "<style scoped>\n",
       "    .dataframe tbody tr th:only-of-type {\n",
       "        vertical-align: middle;\n",
       "    }\n",
       "\n",
       "    .dataframe tbody tr th {\n",
       "        vertical-align: top;\n",
       "    }\n",
       "\n",
       "    .dataframe thead th {\n",
       "        text-align: right;\n",
       "    }\n",
       "</style>\n",
       "<table border=\"1\" class=\"dataframe\">\n",
       "  <thead>\n",
       "    <tr style=\"text-align: right;\">\n",
       "      <th></th>\n",
       "      <th>bathrooms</th>\n",
       "      <th>bedrooms</th>\n",
       "      <th>latitude</th>\n",
       "      <th>longitude</th>\n",
       "      <th>price</th>\n",
       "    </tr>\n",
       "  </thead>\n",
       "  <tbody>\n",
       "    <tr>\n",
       "      <td>0</td>\n",
       "      <td>1.0</td>\n",
       "      <td>1</td>\n",
       "      <td>40.7185</td>\n",
       "      <td>-73.9865</td>\n",
       "      <td>2950</td>\n",
       "    </tr>\n",
       "    <tr>\n",
       "      <td>1</td>\n",
       "      <td>1.0</td>\n",
       "      <td>2</td>\n",
       "      <td>40.7278</td>\n",
       "      <td>-74.0000</td>\n",
       "      <td>2850</td>\n",
       "    </tr>\n",
       "    <tr>\n",
       "      <td>2</td>\n",
       "      <td>1.0</td>\n",
       "      <td>0</td>\n",
       "      <td>40.7260</td>\n",
       "      <td>-74.0026</td>\n",
       "      <td>2295</td>\n",
       "    </tr>\n",
       "    <tr>\n",
       "      <td>3</td>\n",
       "      <td>1.0</td>\n",
       "      <td>2</td>\n",
       "      <td>40.7321</td>\n",
       "      <td>-74.0028</td>\n",
       "      <td>2900</td>\n",
       "    </tr>\n",
       "    <tr>\n",
       "      <td>5</td>\n",
       "      <td>1.0</td>\n",
       "      <td>1</td>\n",
       "      <td>40.7054</td>\n",
       "      <td>-74.0095</td>\n",
       "      <td>3254</td>\n",
       "    </tr>\n",
       "  </tbody>\n",
       "</table>\n",
       "</div>"
      ],
      "text/plain": [
       "   bathrooms  bedrooms  latitude  longitude  price\n",
       "0        1.0         1   40.7185   -73.9865   2950\n",
       "1        1.0         2   40.7278   -74.0000   2850\n",
       "2        1.0         0   40.7260   -74.0026   2295\n",
       "3        1.0         2   40.7321   -74.0028   2900\n",
       "5        1.0         1   40.7054   -74.0095   3254"
      ]
     },
     "execution_count": 7,
     "metadata": {},
     "output_type": "execute_result"
    }
   ],
   "source": [
    "df_testSet.head()"
   ]
  },
  {
   "cell_type": "code",
   "execution_count": 16,
   "metadata": {},
   "outputs": [],
   "source": [
    "Xt = df_testSet  \n",
    " \n",
    "high = [] \n",
    "low=[]\n",
    "medium = []\n",
    " \n",
    "    \n",
    "for i in range(0,Xt.shape[0]): \n",
    "    h = clf.predict_proba(Xt[i:i+1])[0][0]\n",
    "    l = clf.predict_proba(Xt[i:i+1])[0][1]\n",
    "    m = clf.predict_proba(Xt[i:i+1])[0][2]\n",
    "\n",
    "    high.append(h)\n",
    "    low.append(l)\n",
    "    medium.append(m)  \n",
    "    "
   ]
  },
  {
   "cell_type": "code",
   "execution_count": 17,
   "metadata": {},
   "outputs": [
    {
     "data": {
      "text/html": [
       "<div>\n",
       "<style scoped>\n",
       "    .dataframe tbody tr th:only-of-type {\n",
       "        vertical-align: middle;\n",
       "    }\n",
       "\n",
       "    .dataframe tbody tr th {\n",
       "        vertical-align: top;\n",
       "    }\n",
       "\n",
       "    .dataframe thead th {\n",
       "        text-align: right;\n",
       "    }\n",
       "</style>\n",
       "<table border=\"1\" class=\"dataframe\">\n",
       "  <thead>\n",
       "    <tr style=\"text-align: right;\">\n",
       "      <th></th>\n",
       "      <th>listing_id</th>\n",
       "      <th>high</th>\n",
       "      <th>medium</th>\n",
       "      <th>low</th>\n",
       "    </tr>\n",
       "  </thead>\n",
       "  <tbody>\n",
       "    <tr>\n",
       "      <td>0</td>\n",
       "      <td>7142618</td>\n",
       "      <td>0.000000</td>\n",
       "      <td>0.333333</td>\n",
       "      <td>0.666667</td>\n",
       "    </tr>\n",
       "    <tr>\n",
       "      <td>1</td>\n",
       "      <td>7210040</td>\n",
       "      <td>0.333333</td>\n",
       "      <td>0.666667</td>\n",
       "      <td>0.000000</td>\n",
       "    </tr>\n",
       "    <tr>\n",
       "      <td>2</td>\n",
       "      <td>7174566</td>\n",
       "      <td>0.000000</td>\n",
       "      <td>0.000000</td>\n",
       "      <td>1.000000</td>\n",
       "    </tr>\n",
       "    <tr>\n",
       "      <td>3</td>\n",
       "      <td>7191391</td>\n",
       "      <td>0.333333</td>\n",
       "      <td>0.333333</td>\n",
       "      <td>0.333333</td>\n",
       "    </tr>\n",
       "    <tr>\n",
       "      <td>5</td>\n",
       "      <td>7171695</td>\n",
       "      <td>0.000000</td>\n",
       "      <td>0.000000</td>\n",
       "      <td>1.000000</td>\n",
       "    </tr>\n",
       "  </tbody>\n",
       "</table>\n",
       "</div>"
      ],
      "text/plain": [
       "  listing_id      high    medium       low\n",
       "0    7142618  0.000000  0.333333  0.666667\n",
       "1    7210040  0.333333  0.666667  0.000000\n",
       "2    7174566  0.000000  0.000000  1.000000\n",
       "3    7191391  0.333333  0.333333  0.333333\n",
       "5    7171695  0.000000  0.000000  1.000000"
      ]
     },
     "execution_count": 17,
     "metadata": {},
     "output_type": "execute_result"
    }
   ],
   "source": [
    "df_test = pd.DataFrame()  \n",
    "df_test['listing_id'] = listingID \n",
    "df_test['high'] = high\n",
    "df_test['medium'] = medium\n",
    "df_test['low'] = low\n",
    "\n",
    "df_test.head()\n"
   ]
  },
  {
   "cell_type": "code",
   "execution_count": 18,
   "metadata": {},
   "outputs": [],
   "source": [
    "df_test.to_csv(r'KNeighbor_before.csv', index = False)"
   ]
  },
  {
   "cell_type": "markdown",
   "metadata": {},
   "source": [
    "## Modification"
   ]
  },
  {
   "cell_type": "code",
   "execution_count": 8,
   "metadata": {},
   "outputs": [
    {
     "name": "stdout",
     "output_type": "stream",
     "text": [
      "pipe_neigh train: 0.6873725471535107\n",
      "Pipeline(memory=None,\n",
      "         steps=[('preprocessor',\n",
      "                 ColumnTransformer(n_jobs=None, remainder='drop',\n",
      "                                   sparse_threshold=0.3,\n",
      "                                   transformer_weights=None,\n",
      "                                   transformers=[('num',\n",
      "                                                  Pipeline(memory=None,\n",
      "                                                           steps=[('imputer',\n",
      "                                                                   SimpleImputer(add_indicator=False,\n",
      "                                                                                 copy=True,\n",
      "                                                                                 fill_value=None,\n",
      "                                                                                 missing_values=nan,\n",
      "                                                                                 strategy='median',\n",
      "                                                                                 verbose=0)),\n",
      "                                                                  ('scaler',\n",
      "                                                                   StandardScaler(copy=True,\n",
      "                                                                                  with_mean=True,\n",
      "                                                                                  with_std=True))],\n",
      "                                                           verbose=False),\n",
      "                                                  Index(['bathrooms', 'bedrooms', 'latitude', 'longitude', 'price'], dtype='object'))],\n",
      "                                   verbose=False)),\n",
      "                ('neigh',\n",
      "                 KNeighborsClassifier(algorithm='kd_tree', leaf_size=100,\n",
      "                                      metric='minkowski', metric_params=None,\n",
      "                                      n_jobs=None, n_neighbors=100, p=2,\n",
      "                                      weights='uniform'))],\n",
      "         verbose=False)\n"
     ]
    }
   ],
   "source": [
    "## predictions are in the order of HIGH LOW MEDIUM \n",
    "# Split labeled data into 60% training dataset and 40% test dataset\n",
    "X_train, X_test, y_train, y_test = train_test_split(X, y, test_size=0.30, random_state=0)\n",
    "  \n",
    "    \n",
    "clf = KNeighborsClassifier(n_neighbors=100, algorithm='kd_tree', leaf_size=100)\n",
    "\n",
    "numeric_transformer = Pipeline(steps=[\n",
    "    ('imputer', SimpleImputer(strategy='median')),\n",
    "    ('scaler', StandardScaler())])\n",
    "\n",
    "numeric_features = X_train.select_dtypes(include=['int64', 'float64']).columns\n",
    "\n",
    "preprocessor = ColumnTransformer(\n",
    "    transformers=[\n",
    "        ('num', numeric_transformer, numeric_features)])\n",
    "\n",
    "pipe_neigh = Pipeline(steps=[('preprocessor', preprocessor),\n",
    "                      ('neigh', clf)])\n",
    "\n",
    "scores = cross_val_score(pipe_neigh, X_train, y_train, cv=5)\n",
    "print(\"pipe_neigh train: \" + str(np.mean(scores)))\n",
    "\n",
    "pipe_neigh.fit(X_train, y_train)\n",
    "print(pipe_neigh)"
   ]
  },
  {
   "cell_type": "code",
   "execution_count": 9,
   "metadata": {},
   "outputs": [
    {
     "name": "stdout",
     "output_type": "stream",
     "text": [
      "0.6873725471535107\n",
      "0.603125493914422\n",
      "0.7151195747771695\n"
     ]
    }
   ],
   "source": [
    "# clf.fit(X, y)\n",
    "scores = cross_val_score(pipe_neigh, X_train, y_train, cv=5)\n",
    "\n",
    "# Predict labels on the test data using the trained classifier.\n",
    "predictions = pipe_neigh.predict(X_test)\n",
    "\n",
    "# Calculate the F1 score by comparing predicted and actual labels.\n",
    "F1 = f1_score(y_test, predictions, average='weighted')\n",
    "\n",
    "y_prob = pipe_neigh.predict_proba(X_test) \n",
    "logloss = log_loss(y_test, y_prob)\n",
    "\n",
    "\n",
    "print(np.mean(scores))\n",
    "print(F1)\n",
    "print(logloss) "
   ]
  },
  {
   "cell_type": "code",
   "execution_count": 10,
   "metadata": {},
   "outputs": [],
   "source": [
    "Xt = df_testSet  \n",
    " \n",
    "high = [] \n",
    "low=[]\n",
    "medium = []\n",
    " \n",
    "    \n",
    "for i in range(0,Xt.shape[0]): \n",
    "    h = pipe_neigh.predict_proba(Xt[i:i+1])[0][0]\n",
    "    l = pipe_neigh.predict_proba(Xt[i:i+1])[0][1]\n",
    "    m = pipe_neigh.predict_proba(Xt[i:i+1])[0][2]\n",
    "    \n",
    "    high.append(h)\n",
    "    low.append(l)\n",
    "    medium.append(m)  \n",
    "    "
   ]
  },
  {
   "cell_type": "code",
   "execution_count": 11,
   "metadata": {},
   "outputs": [
    {
     "data": {
      "text/html": [
       "<div>\n",
       "<style scoped>\n",
       "    .dataframe tbody tr th:only-of-type {\n",
       "        vertical-align: middle;\n",
       "    }\n",
       "\n",
       "    .dataframe tbody tr th {\n",
       "        vertical-align: top;\n",
       "    }\n",
       "\n",
       "    .dataframe thead th {\n",
       "        text-align: right;\n",
       "    }\n",
       "</style>\n",
       "<table border=\"1\" class=\"dataframe\">\n",
       "  <thead>\n",
       "    <tr style=\"text-align: right;\">\n",
       "      <th></th>\n",
       "      <th>listing_id</th>\n",
       "      <th>high</th>\n",
       "      <th>medium</th>\n",
       "      <th>low</th>\n",
       "    </tr>\n",
       "  </thead>\n",
       "  <tbody>\n",
       "    <tr>\n",
       "      <td>0</td>\n",
       "      <td>7142618</td>\n",
       "      <td>0.03</td>\n",
       "      <td>0.27</td>\n",
       "      <td>0.70</td>\n",
       "    </tr>\n",
       "    <tr>\n",
       "      <td>1</td>\n",
       "      <td>7210040</td>\n",
       "      <td>0.27</td>\n",
       "      <td>0.44</td>\n",
       "      <td>0.29</td>\n",
       "    </tr>\n",
       "    <tr>\n",
       "      <td>2</td>\n",
       "      <td>7174566</td>\n",
       "      <td>0.10</td>\n",
       "      <td>0.29</td>\n",
       "      <td>0.61</td>\n",
       "    </tr>\n",
       "    <tr>\n",
       "      <td>3</td>\n",
       "      <td>7191391</td>\n",
       "      <td>0.25</td>\n",
       "      <td>0.40</td>\n",
       "      <td>0.35</td>\n",
       "    </tr>\n",
       "    <tr>\n",
       "      <td>5</td>\n",
       "      <td>7171695</td>\n",
       "      <td>0.01</td>\n",
       "      <td>0.11</td>\n",
       "      <td>0.88</td>\n",
       "    </tr>\n",
       "  </tbody>\n",
       "</table>\n",
       "</div>"
      ],
      "text/plain": [
       "  listing_id  high  medium   low\n",
       "0    7142618  0.03    0.27  0.70\n",
       "1    7210040  0.27    0.44  0.29\n",
       "2    7174566  0.10    0.29  0.61\n",
       "3    7191391  0.25    0.40  0.35\n",
       "5    7171695  0.01    0.11  0.88"
      ]
     },
     "execution_count": 11,
     "metadata": {},
     "output_type": "execute_result"
    }
   ],
   "source": [
    "df_test = pd.DataFrame()  \n",
    "df_test['listing_id'] = listingID \n",
    "df_test['high'] = high\n",
    "df_test['medium'] = medium\n",
    "df_test['low'] = low\n",
    "\n",
    "df_test.head()\n"
   ]
  },
  {
   "cell_type": "code",
   "execution_count": 12,
   "metadata": {},
   "outputs": [],
   "source": [
    "df_test.to_csv(r'KNieghbors_after.csv', index = False)"
   ]
  }
 ],
 "metadata": {
  "kernelspec": {
   "display_name": "Python 3",
   "language": "python",
   "name": "python3"
  },
  "language_info": {
   "codemirror_mode": {
    "name": "ipython",
    "version": 3
   },
   "file_extension": ".py",
   "mimetype": "text/x-python",
   "name": "python",
   "nbconvert_exporter": "python",
   "pygments_lexer": "ipython3",
   "version": "3.7.4"
  }
 },
 "nbformat": 4,
 "nbformat_minor": 2
}
