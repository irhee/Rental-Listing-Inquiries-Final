{
 "cells": [
  {
   "cell_type": "code",
   "execution_count": 1,
   "metadata": {},
   "outputs": [
    {
     "data": {
      "text/plain": [
       "bathrooms          49352\n",
       "bedrooms           49352\n",
       "building_id        49352\n",
       "created            49352\n",
       "description        49352\n",
       "display_address    49352\n",
       "features           49352\n",
       "latitude           49352\n",
       "listing_id         49352\n",
       "longitude          49352\n",
       "manager_id         49352\n",
       "photos             49352\n",
       "price              49352\n",
       "street_address     49352\n",
       "interest_level     49352\n",
       "dtype: int64"
      ]
     },
     "execution_count": 1,
     "metadata": {},
     "output_type": "execute_result"
    }
   ],
   "source": [
    "import seaborn as sns\n",
    "import numpy as np\n",
    "import datetime as dt\n",
    "import pandas as pd\n",
    "import matplotlib.pyplot as plt\n",
    "import math\n",
    "from sklearn import preprocessing\n",
    "import nltk as nltk\n",
    "import cv2\n",
    "import imageio\n",
    "from nltk.corpus import stopwords\n",
    "from nltk.tokenize import word_tokenize \n",
    "from nltk.draw.dispersion import dispersion_plot\n",
    "from sklearn.feature_extraction.text import CountVectorizer\n",
    "from sklearn.model_selection import train_test_split\n",
    "from sklearn.svm import SVC\n",
    "from sklearn.feature_extraction.text import TfidfVectorizer\n",
    "from sklearn.model_selection import KFold \n",
    "from sklearn.preprocessing import MinMaxScaler\n",
    "from sklearn.model_selection import cross_val_score\n",
    "from sklearn.model_selection import GridSearchCV\n",
    "from sklearn.model_selection import RandomizedSearchCV\n",
    "from sklearn.preprocessing import StandardScaler\n",
    "from sklearn.metrics import log_loss\n",
    "from sklearn.metrics import f1_score\n",
    "from sklearn.ensemble import AdaBoostClassifier\n",
    "from sklearn.datasets import make_classification\n",
    "from sklearn.datasets import make_blobs\n",
    "from sklearn.neighbors import NearestCentroid\n",
    "from sklearn.naive_bayes import BernoulliNB\n",
    "from sklearn.impute import SimpleImputer\n",
    "\n",
    "\n",
    "from sklearn.model_selection import train_test_split\n",
    "from sklearn import datasets\n",
    "from sklearn import svm\n",
    "from sklearn.linear_model import LogisticRegression\n",
    "from sklearn.metrics import classification_report, confusion_matrix\n",
    "import warnings\n",
    "warnings.filterwarnings(\"ignore\")\n",
    "#                         category=DeprecationWarning)\n",
    "\n",
    "\n",
    "pd.set_option('display.max_rows', None)\n",
    "df = pd.read_json('C:/Users/ins/Desktop/459FinalProject/train.json')\n",
    "#df_testSet = pd.read_json('C:/Users/User/Desktop/CMPT459/as1/test.json', dtype={'listing_id': 'str'})\n",
    "df.count()"
   ]
  },
  {
   "cell_type": "code",
   "execution_count": 2,
   "metadata": {},
   "outputs": [
    {
     "name": "stdout",
     "output_type": "stream",
     "text": [
      "3.2.1\n"
     ]
    }
   ],
   "source": [
    "print(matplotlib.__version__)"
   ]
  },
  {
   "cell_type": "code",
   "execution_count": 13,
   "metadata": {},
   "outputs": [],
   "source": [
    "df_testSet = pd.read_json('C:/Users/User/Desktop/CMPT459/as1/test.json', dtype={'listing_id': 'str'})\n",
    "listingID = df_testSet['listing_id']"
   ]
  },
  {
   "cell_type": "markdown",
   "metadata": {},
   "source": [
    "## TRAINING\n"
   ]
  },
  {
   "cell_type": "markdown",
   "metadata": {},
   "source": [
    "### Preprocessing"
   ]
  },
  {
   "cell_type": "code",
   "execution_count": 148,
   "metadata": {},
   "outputs": [
    {
     "data": {
      "text/html": [
       "<div>\n",
       "<style scoped>\n",
       "    .dataframe tbody tr th:only-of-type {\n",
       "        vertical-align: middle;\n",
       "    }\n",
       "\n",
       "    .dataframe tbody tr th {\n",
       "        vertical-align: top;\n",
       "    }\n",
       "\n",
       "    .dataframe thead th {\n",
       "        text-align: right;\n",
       "    }\n",
       "</style>\n",
       "<table border=\"1\" class=\"dataframe\">\n",
       "  <thead>\n",
       "    <tr style=\"text-align: right;\">\n",
       "      <th></th>\n",
       "      <th>bathrooms</th>\n",
       "      <th>bedrooms</th>\n",
       "      <th>latitude</th>\n",
       "      <th>longitude</th>\n",
       "      <th>price</th>\n",
       "    </tr>\n",
       "  </thead>\n",
       "  <tbody>\n",
       "    <tr>\n",
       "      <td>4</td>\n",
       "      <td>1.0</td>\n",
       "      <td>1</td>\n",
       "      <td>40.7108</td>\n",
       "      <td>73.9539</td>\n",
       "      <td>2400</td>\n",
       "    </tr>\n",
       "    <tr>\n",
       "      <td>6</td>\n",
       "      <td>1.0</td>\n",
       "      <td>2</td>\n",
       "      <td>40.7513</td>\n",
       "      <td>73.9722</td>\n",
       "      <td>3800</td>\n",
       "    </tr>\n",
       "    <tr>\n",
       "      <td>9</td>\n",
       "      <td>1.0</td>\n",
       "      <td>2</td>\n",
       "      <td>40.7575</td>\n",
       "      <td>73.9625</td>\n",
       "      <td>3495</td>\n",
       "    </tr>\n",
       "    <tr>\n",
       "      <td>15</td>\n",
       "      <td>1.0</td>\n",
       "      <td>0</td>\n",
       "      <td>40.7439</td>\n",
       "      <td>73.9743</td>\n",
       "      <td>2795</td>\n",
       "    </tr>\n",
       "    <tr>\n",
       "      <td>19</td>\n",
       "      <td>1.0</td>\n",
       "      <td>0</td>\n",
       "      <td>40.7769</td>\n",
       "      <td>73.9467</td>\n",
       "      <td>1945</td>\n",
       "    </tr>\n",
       "  </tbody>\n",
       "</table>\n",
       "</div>"
      ],
      "text/plain": [
       "    bathrooms  bedrooms  latitude  longitude  price\n",
       "4         1.0         1   40.7108    73.9539   2400\n",
       "6         1.0         2   40.7513    73.9722   3800\n",
       "9         1.0         2   40.7575    73.9625   3495\n",
       "15        1.0         0   40.7439    73.9743   2795\n",
       "19        1.0         0   40.7769    73.9467   1945"
      ]
     },
     "execution_count": 148,
     "metadata": {},
     "output_type": "execute_result"
    }
   ],
   "source": [
    "df_price = df['price']  \n",
    "IQR = df_price.quantile(0.75)-df_price.quantile(0.25)\n",
    "upper = df_price.quantile(0.75)+IQR*1.5\n",
    "lower = df_price.quantile(0.25)-IQR*1.5 \n",
    "\n",
    "df1 = df[(df['price'] <upper) & (df['price'] >lower)]\n",
    "\n",
    "df_lat = df1['latitude']\n",
    "\n",
    "IQR = df_lat.quantile(0.75)-df_lat.quantile(0.25)\n",
    "upper = df_lat.quantile(0.75)+IQR*1.5\n",
    "lower = df_lat.quantile(0.25)-IQR*1.5\n",
    " \n",
    "df2 = df1[(df1['latitude']<upper) & (df1['latitude']>lower)]\n",
    "\n",
    "df_long = df2['longitude']\n",
    " \n",
    "IQR = df_long.quantile(0.75)-df_long.quantile(0.25)\n",
    "upper = df_long.quantile(0.75)+IQR*1.5\n",
    "lower = df_long.quantile(0.25)-IQR*1.5 \n",
    "df3 = df2[(df2['longitude'] >lower) & (df2['longitude']<upper)]\n",
    "\n",
    "df_bedrooms = df3['bedrooms']\n",
    " \n",
    "IQR = df_bedrooms.quantile(0.75)-df_bedrooms.quantile(0.25)\n",
    "upper = df_bedrooms.quantile(0.75)+IQR*1.5\n",
    "lower = max(df_bedrooms.quantile(0.25)-IQR*1.5, 0)\n",
    " \n",
    "df4 = df3[(df3['bedrooms'] >= lower) & (df3['bedrooms'] <= upper)]\n",
    "\n",
    "df_bathrooms = df4['bathrooms']\n",
    " \n",
    "IQR = df_bathrooms.quantile(0.75)-df_bathrooms.quantile(0.25)\n",
    "\n",
    "upper = math.ceil(df_bathrooms.quantile(0.75)+IQR*1.5)\n",
    "lower = max(df_bathrooms.quantile(0.25)-IQR*1.5, 0)\n",
    "average = sum(df_bathrooms) / len(df_bathrooms)\n",
    "\n",
    "df5 = df4[(df4['bathrooms'] >= lower) & (df4['bathrooms'] <= upper)]\n",
    "\n",
    "df6 = df5.drop(['listing_id','features','description', 'building_id', 'manager_id', 'building_id',\n",
    "                'created', 'display_address', 'street_address', 'photos', 'interest_level'], axis=1)\n",
    "df6['longitude'] = -df6['longitude']\n",
    "X=df6\n",
    "y = df5[\"interest_level\"] \n",
    "\n",
    "X.head()"
   ]
  },
  {
   "cell_type": "code",
   "execution_count": 165,
   "metadata": {},
   "outputs": [
    {
     "name": "stdout",
     "output_type": "stream",
     "text": [
      "number of property managers  3059\n",
      "number of high interest level property managers  847\n"
     ]
    }
   ],
   "source": [
    "print('number of property managers ',len(df5['manager_id'].unique()))\n",
    "high_interest_manager = df5[df5['interest_level'] == 'high']\n",
    "count_managers = high_interest_manager['manager_id'].unique()\n",
    "print('number of high interest level property managers ',len(count_managers))"
   ]
  },
  {
   "cell_type": "code",
   "execution_count": 135,
   "metadata": {},
   "outputs": [
    {
     "data": {
      "text/plain": [
       "4     medium\n",
       "6        low\n",
       "9     medium\n",
       "15       low\n",
       "19      high\n",
       "Name: interest_level, dtype: object"
      ]
     },
     "execution_count": 135,
     "metadata": {},
     "output_type": "execute_result"
    }
   ],
   "source": [
    "y.head()"
   ]
  },
  {
   "cell_type": "code",
   "execution_count": 138,
   "metadata": {},
   "outputs": [
    {
     "data": {
      "text/html": [
       "<div>\n",
       "<style scoped>\n",
       "    .dataframe tbody tr th:only-of-type {\n",
       "        vertical-align: middle;\n",
       "    }\n",
       "\n",
       "    .dataframe tbody tr th {\n",
       "        vertical-align: top;\n",
       "    }\n",
       "\n",
       "    .dataframe thead th {\n",
       "        text-align: right;\n",
       "    }\n",
       "</style>\n",
       "<table border=\"1\" class=\"dataframe\">\n",
       "  <thead>\n",
       "    <tr style=\"text-align: right;\">\n",
       "      <th></th>\n",
       "      <th>high</th>\n",
       "      <th>low</th>\n",
       "      <th>medium</th>\n",
       "    </tr>\n",
       "  </thead>\n",
       "  <tbody>\n",
       "    <tr>\n",
       "      <td>4</td>\n",
       "      <td>0</td>\n",
       "      <td>0</td>\n",
       "      <td>1</td>\n",
       "    </tr>\n",
       "    <tr>\n",
       "      <td>6</td>\n",
       "      <td>0</td>\n",
       "      <td>1</td>\n",
       "      <td>0</td>\n",
       "    </tr>\n",
       "    <tr>\n",
       "      <td>9</td>\n",
       "      <td>0</td>\n",
       "      <td>0</td>\n",
       "      <td>1</td>\n",
       "    </tr>\n",
       "    <tr>\n",
       "      <td>15</td>\n",
       "      <td>0</td>\n",
       "      <td>1</td>\n",
       "      <td>0</td>\n",
       "    </tr>\n",
       "    <tr>\n",
       "      <td>19</td>\n",
       "      <td>1</td>\n",
       "      <td>0</td>\n",
       "      <td>0</td>\n",
       "    </tr>\n",
       "  </tbody>\n",
       "</table>\n",
       "</div>"
      ],
      "text/plain": [
       "    high  low  medium\n",
       "4      0    0       1\n",
       "6      0    1       0\n",
       "9      0    0       1\n",
       "15     0    1       0\n",
       "19     1    0       0"
      ]
     },
     "execution_count": 138,
     "metadata": {},
     "output_type": "execute_result"
    }
   ],
   "source": [
    "y_new = pd.get_dummies(y)\n",
    "y_new.head()"
   ]
  },
  {
   "cell_type": "markdown",
   "metadata": {},
   "source": [
    "## Distance from Soho mall"
   ]
  },
  {
   "cell_type": "code",
   "execution_count": 136,
   "metadata": {},
   "outputs": [
    {
     "data": {
      "text/html": [
       "<div>\n",
       "<style scoped>\n",
       "    .dataframe tbody tr th:only-of-type {\n",
       "        vertical-align: middle;\n",
       "    }\n",
       "\n",
       "    .dataframe tbody tr th {\n",
       "        vertical-align: top;\n",
       "    }\n",
       "\n",
       "    .dataframe thead th {\n",
       "        text-align: right;\n",
       "    }\n",
       "</style>\n",
       "<table border=\"1\" class=\"dataframe\">\n",
       "  <thead>\n",
       "    <tr style=\"text-align: right;\">\n",
       "      <th></th>\n",
       "      <th>bathrooms</th>\n",
       "      <th>bedrooms</th>\n",
       "      <th>latitude</th>\n",
       "      <th>longitude</th>\n",
       "      <th>price</th>\n",
       "      <th>soho_latitude</th>\n",
       "      <th>soho_longitude</th>\n",
       "    </tr>\n",
       "  </thead>\n",
       "  <tbody>\n",
       "    <tr>\n",
       "      <td>4</td>\n",
       "      <td>1.0</td>\n",
       "      <td>1</td>\n",
       "      <td>40.7108</td>\n",
       "      <td>73.9539</td>\n",
       "      <td>2400</td>\n",
       "      <td>0.0125</td>\n",
       "      <td>147.9569</td>\n",
       "    </tr>\n",
       "    <tr>\n",
       "      <td>6</td>\n",
       "      <td>1.0</td>\n",
       "      <td>2</td>\n",
       "      <td>40.7513</td>\n",
       "      <td>73.9722</td>\n",
       "      <td>3800</td>\n",
       "      <td>0.0280</td>\n",
       "      <td>147.9752</td>\n",
       "    </tr>\n",
       "    <tr>\n",
       "      <td>9</td>\n",
       "      <td>1.0</td>\n",
       "      <td>2</td>\n",
       "      <td>40.7575</td>\n",
       "      <td>73.9625</td>\n",
       "      <td>3495</td>\n",
       "      <td>0.0342</td>\n",
       "      <td>147.9655</td>\n",
       "    </tr>\n",
       "    <tr>\n",
       "      <td>15</td>\n",
       "      <td>1.0</td>\n",
       "      <td>0</td>\n",
       "      <td>40.7439</td>\n",
       "      <td>73.9743</td>\n",
       "      <td>2795</td>\n",
       "      <td>0.0206</td>\n",
       "      <td>147.9773</td>\n",
       "    </tr>\n",
       "    <tr>\n",
       "      <td>19</td>\n",
       "      <td>1.0</td>\n",
       "      <td>0</td>\n",
       "      <td>40.7769</td>\n",
       "      <td>73.9467</td>\n",
       "      <td>1945</td>\n",
       "      <td>0.0536</td>\n",
       "      <td>147.9497</td>\n",
       "    </tr>\n",
       "  </tbody>\n",
       "</table>\n",
       "</div>"
      ],
      "text/plain": [
       "    bathrooms  bedrooms  latitude  longitude  price  soho_latitude  \\\n",
       "4         1.0         1   40.7108    73.9539   2400         0.0125   \n",
       "6         1.0         2   40.7513    73.9722   3800         0.0280   \n",
       "9         1.0         2   40.7575    73.9625   3495         0.0342   \n",
       "15        1.0         0   40.7439    73.9743   2795         0.0206   \n",
       "19        1.0         0   40.7769    73.9467   1945         0.0536   \n",
       "\n",
       "    soho_longitude  \n",
       "4         147.9569  \n",
       "6         147.9752  \n",
       "9         147.9655  \n",
       "15        147.9773  \n",
       "19        147.9497  "
      ]
     },
     "execution_count": 136,
     "metadata": {},
     "output_type": "execute_result"
    }
   ],
   "source": [
    "# Creating Manhattan distance attributes and adding to the dataset\n",
    "soho_north = 40.7233\n",
    "soho_west = 74.0030\n",
    "\n",
    "X['soho_latitude'] = abs(X['latitude'] - soho_north)\n",
    "X['soho_longitude'] = abs(X['longitude'] + soho_west)\n",
    "X.head()"
   ]
  },
  {
   "cell_type": "markdown",
   "metadata": {},
   "source": [
    "## chi2"
   ]
  },
  {
   "cell_type": "code",
   "execution_count": 41,
   "metadata": {},
   "outputs": [
    {
     "name": "stdout",
     "output_type": "stream",
     "text": [
      "            Specs         Score\n",
      "4           price  4.340219e+05\n",
      "1        bedrooms  2.289521e+02\n",
      "5   soho_latitude  7.957379e-02\n",
      "2        latitude  5.924854e-04\n",
      "3       longitude  4.363663e-04\n",
      "6  soho_longitude  2.181430e-04\n",
      "0       bathrooms  7.258517e-29\n"
     ]
    }
   ],
   "source": [
    "from sklearn.feature_selection import SelectKBest\n",
    "from sklearn.feature_selection import chi2\n",
    "\n",
    "#apply SelectKBest class to extract top 10 best features\n",
    "bestfeatures = SelectKBest(score_func=chi2, k=7)\n",
    "fit = bestfeatures.fit(X,y)\n",
    "dfscores = pd.DataFrame(fit.scores_)\n",
    "dfcolumns = pd.DataFrame(X.columns)\n",
    "#concat two dataframes for better visualization \n",
    "featureScores = pd.concat([dfcolumns,dfscores],axis=1)\n",
    "featureScores.columns = ['Specs','Score']  #naming the dataframe columns\n",
    "print(featureScores.nlargest(7,'Score'))  #print 10 best features"
   ]
  },
  {
   "cell_type": "markdown",
   "metadata": {},
   "source": [
    "## Extra Trees Classifier"
   ]
  },
  {
   "cell_type": "code",
   "execution_count": 42,
   "metadata": {},
   "outputs": [
    {
     "name": "stdout",
     "output_type": "stream",
     "text": [
      "[0.         0.03834375 0.13679279 0.13523763 0.41751421 0.13472868\n",
      " 0.13738294]\n"
     ]
    },
    {
     "data": {
      "image/png": "[encoded data removed]",
      "text/plain": [
       "<Figure size 432x288 with 1 Axes>"
      ]
     },
     "metadata": {
      "needs_background": "light"
     },
     "output_type": "display_data"
    }
   ],
   "source": [
    "from sklearn.ensemble import ExtraTreesClassifier\n",
    "model = ExtraTreesClassifier()\n",
    "model.fit(X,y)\n",
    "print(model.feature_importances_) #use inbuilt class feature_importances of tree based classifiers\n",
    "#plot graph of feature importances for better visualization\n",
    "feat_importances = pd.Series(model.feature_importances_, index=X.columns)\n",
    "feat_importances.nlargest(10).plot(kind='barh')\n",
    "plt.show()"
   ]
  },
  {
   "cell_type": "markdown",
   "metadata": {},
   "source": [
    "## Correlation Heat Map"
   ]
  },
  {
   "cell_type": "code",
   "execution_count": 145,
   "metadata": {},
   "outputs": [
    {
     "data": {
      "text/html": [
       "<div>\n",
       "<style scoped>\n",
       "    .dataframe tbody tr th:only-of-type {\n",
       "        vertical-align: middle;\n",
       "    }\n",
       "\n",
       "    .dataframe tbody tr th {\n",
       "        vertical-align: top;\n",
       "    }\n",
       "\n",
       "    .dataframe thead th {\n",
       "        text-align: right;\n",
       "    }\n",
       "</style>\n",
       "<table border=\"1\" class=\"dataframe\">\n",
       "  <thead>\n",
       "    <tr style=\"text-align: right;\">\n",
       "      <th></th>\n",
       "      <th>bathrooms</th>\n",
       "      <th>bedrooms</th>\n",
       "      <th>latitude</th>\n",
       "      <th>longitude</th>\n",
       "      <th>price</th>\n",
       "      <th>soho_latitude</th>\n",
       "      <th>soho_longitude</th>\n",
       "      <th>high</th>\n",
       "      <th>low</th>\n",
       "      <th>medium</th>\n",
       "    </tr>\n",
       "  </thead>\n",
       "  <tbody>\n",
       "    <tr>\n",
       "      <td>bathrooms</td>\n",
       "      <td>NaN</td>\n",
       "      <td>NaN</td>\n",
       "      <td>NaN</td>\n",
       "      <td>NaN</td>\n",
       "      <td>NaN</td>\n",
       "      <td>NaN</td>\n",
       "      <td>NaN</td>\n",
       "      <td>NaN</td>\n",
       "      <td>NaN</td>\n",
       "      <td>NaN</td>\n",
       "    </tr>\n",
       "    <tr>\n",
       "      <td>bedrooms</td>\n",
       "      <td>NaN</td>\n",
       "      <td>1.000000</td>\n",
       "      <td>-0.026429</td>\n",
       "      <td>-0.092545</td>\n",
       "      <td>0.452862</td>\n",
       "      <td>0.038817</td>\n",
       "      <td>-0.092545</td>\n",
       "      <td>0.045224</td>\n",
       "      <td>-0.095427</td>\n",
       "      <td>0.075719</td>\n",
       "    </tr>\n",
       "    <tr>\n",
       "      <td>latitude</td>\n",
       "      <td>NaN</td>\n",
       "      <td>-0.026429</td>\n",
       "      <td>1.000000</td>\n",
       "      <td>-0.456029</td>\n",
       "      <td>-0.185854</td>\n",
       "      <td>0.780856</td>\n",
       "      <td>-0.456029</td>\n",
       "      <td>-0.017899</td>\n",
       "      <td>0.022936</td>\n",
       "      <td>-0.013753</td>\n",
       "    </tr>\n",
       "    <tr>\n",
       "      <td>longitude</td>\n",
       "      <td>NaN</td>\n",
       "      <td>-0.092545</td>\n",
       "      <td>-0.456029</td>\n",
       "      <td>1.000000</td>\n",
       "      <td>0.374898</td>\n",
       "      <td>-0.581543</td>\n",
       "      <td>1.000000</td>\n",
       "      <td>-0.035442</td>\n",
       "      <td>0.035480</td>\n",
       "      <td>-0.016372</td>\n",
       "    </tr>\n",
       "    <tr>\n",
       "      <td>price</td>\n",
       "      <td>NaN</td>\n",
       "      <td>0.452862</td>\n",
       "      <td>-0.185854</td>\n",
       "      <td>0.374898</td>\n",
       "      <td>1.000000</td>\n",
       "      <td>-0.332151</td>\n",
       "      <td>0.374898</td>\n",
       "      <td>-0.159385</td>\n",
       "      <td>0.205899</td>\n",
       "      <td>-0.124289</td>\n",
       "    </tr>\n",
       "    <tr>\n",
       "      <td>soho_latitude</td>\n",
       "      <td>NaN</td>\n",
       "      <td>0.038817</td>\n",
       "      <td>0.780856</td>\n",
       "      <td>-0.581543</td>\n",
       "      <td>-0.332151</td>\n",
       "      <td>1.000000</td>\n",
       "      <td>-0.581543</td>\n",
       "      <td>0.009265</td>\n",
       "      <td>-0.009945</td>\n",
       "      <td>0.005012</td>\n",
       "    </tr>\n",
       "    <tr>\n",
       "      <td>soho_longitude</td>\n",
       "      <td>NaN</td>\n",
       "      <td>-0.092545</td>\n",
       "      <td>-0.456029</td>\n",
       "      <td>1.000000</td>\n",
       "      <td>0.374898</td>\n",
       "      <td>-0.581543</td>\n",
       "      <td>1.000000</td>\n",
       "      <td>-0.035442</td>\n",
       "      <td>0.035480</td>\n",
       "      <td>-0.016372</td>\n",
       "    </tr>\n",
       "    <tr>\n",
       "      <td>high</td>\n",
       "      <td>NaN</td>\n",
       "      <td>0.045224</td>\n",
       "      <td>-0.017899</td>\n",
       "      <td>-0.035442</td>\n",
       "      <td>-0.159385</td>\n",
       "      <td>0.009265</td>\n",
       "      <td>-0.035442</td>\n",
       "      <td>1.000000</td>\n",
       "      <td>-0.430306</td>\n",
       "      <td>-0.161995</td>\n",
       "    </tr>\n",
       "    <tr>\n",
       "      <td>low</td>\n",
       "      <td>NaN</td>\n",
       "      <td>-0.095427</td>\n",
       "      <td>0.022936</td>\n",
       "      <td>0.035480</td>\n",
       "      <td>0.205899</td>\n",
       "      <td>-0.009945</td>\n",
       "      <td>0.035480</td>\n",
       "      <td>-0.430306</td>\n",
       "      <td>1.000000</td>\n",
       "      <td>-0.821052</td>\n",
       "    </tr>\n",
       "    <tr>\n",
       "      <td>medium</td>\n",
       "      <td>NaN</td>\n",
       "      <td>0.075719</td>\n",
       "      <td>-0.013753</td>\n",
       "      <td>-0.016372</td>\n",
       "      <td>-0.124289</td>\n",
       "      <td>0.005012</td>\n",
       "      <td>-0.016372</td>\n",
       "      <td>-0.161995</td>\n",
       "      <td>-0.821052</td>\n",
       "      <td>1.000000</td>\n",
       "    </tr>\n",
       "  </tbody>\n",
       "</table>\n",
       "</div>"
      ],
      "text/plain": [
       "                bathrooms  bedrooms  latitude  longitude     price  \\\n",
       "bathrooms             NaN       NaN       NaN        NaN       NaN   \n",
       "bedrooms              NaN  1.000000 -0.026429  -0.092545  0.452862   \n",
       "latitude              NaN -0.026429  1.000000  -0.456029 -0.185854   \n",
       "longitude             NaN -0.092545 -0.456029   1.000000  0.374898   \n",
       "price                 NaN  0.452862 -0.185854   0.374898  1.000000   \n",
       "soho_latitude         NaN  0.038817  0.780856  -0.581543 -0.332151   \n",
       "soho_longitude        NaN -0.092545 -0.456029   1.000000  0.374898   \n",
       "high                  NaN  0.045224 -0.017899  -0.035442 -0.159385   \n",
       "low                   NaN -0.095427  0.022936   0.035480  0.205899   \n",
       "medium                NaN  0.075719 -0.013753  -0.016372 -0.124289   \n",
       "\n",
       "                soho_latitude  soho_longitude      high       low    medium  \n",
       "bathrooms                 NaN             NaN       NaN       NaN       NaN  \n",
       "bedrooms             0.038817       -0.092545  0.045224 -0.095427  0.075719  \n",
       "latitude             0.780856       -0.456029 -0.017899  0.022936 -0.013753  \n",
       "longitude           -0.581543        1.000000 -0.035442  0.035480 -0.016372  \n",
       "price               -0.332151        0.374898 -0.159385  0.205899 -0.124289  \n",
       "soho_latitude        1.000000       -0.581543  0.009265 -0.009945  0.005012  \n",
       "soho_longitude      -0.581543        1.000000 -0.035442  0.035480 -0.016372  \n",
       "high                 0.009265       -0.035442  1.000000 -0.430306 -0.161995  \n",
       "low                 -0.009945        0.035480 -0.430306  1.000000 -0.821052  \n",
       "medium               0.005012       -0.016372 -0.161995 -0.821052  1.000000  "
      ]
     },
     "execution_count": 145,
     "metadata": {},
     "output_type": "execute_result"
    },
    {
     "data": {
      "image/png": "[encoded data removed]",
      "text/plain": [
       "<Figure size 720x648 with 2 Axes>"
      ]
     },
     "metadata": {
      "needs_background": "light"
     },
     "output_type": "display_data"
    }
   ],
   "source": [
    "#get correlations of each features in dataset\n",
    "data = pd.merge(X, y_new, right_index=True, left_index=True)\n",
    "corrmat = data.corr()\n",
    "f, ax = plt.subplots(figsize=(10, 9))\n",
    "#plot heat map\n",
    "\n",
    "sns.heatmap(corrmat,vmax = 0.8, square=True,cmap=\"RdYlGn\")\n",
    "corrmat"
   ]
  },
  {
   "cell_type": "markdown",
   "metadata": {},
   "source": [
    "## Checking what are the prices for the high interest_level "
   ]
  },
  {
   "cell_type": "code",
   "execution_count": 130,
   "metadata": {},
   "outputs": [
    {
     "name": "stdout",
     "output_type": "stream",
     "text": [
      "The average rent price for high interest_level is $ 2589\n",
      "The standard deviation is $ 777\n",
      "The median rent price for high interest_level is $ 2495\n",
      "The dataset has 2849 of high interest_level\n",
      "-------------------------\n",
      "The average rent price for medium interest_level is $ 2869\n",
      "The standard deviation is $ 772\n",
      "The median rent price for medium interest_level is $ 2759\n",
      "The dataset has 8596 of medium interest_level\n",
      "-------------------------\n",
      "The average rent price for low interest_level is $ 3184\n",
      "The standard deviation is $ 877\n",
      "The median rent price for low interest_level is $ 3090\n",
      "The dataset has 24961  of low interest_level\n"
     ]
    }
   ],
   "source": [
    "high = df5[df5['interest_level'] == \"high\"]\n",
    "print(\"The average rent price for high interest_level is $\", int(high['price'].mean()))\n",
    "print(\"The standard deviation is $\", int(high['price'].std()))\n",
    "print(\"The median rent price for high interest_level is $\", int(high['price'].median()))\n",
    "print(\"The dataset has\", int(high['price'].count()), \"of high interest_level\")\n",
    "print(\"-------------------------\")\n",
    "\n",
    "medium = df5[df5['interest_level'] == \"medium\"]\n",
    "print(\"The average rent price for medium interest_level is $\", int(medium['price'].mean()))\n",
    "print(\"The standard deviation is $\", int(medium['price'].std()))\n",
    "print(\"The median rent price for medium interest_level is $\", int(medium['price'].median()))\n",
    "print(\"The dataset has\", int(medium['price'].count()), \"of medium interest_level\")\n",
    "print(\"-------------------------\")\n",
    "\n",
    "\n",
    "low = df5[df5['interest_level'] == \"low\"]\n",
    "print(\"The average rent price for low interest_level is $\", int(low['price'].mean()))\n",
    "print(\"The standard deviation is $\", int(low['price'].std()))\n",
    "print(\"The median rent price for low interest_level is $\", int(low['price'].median()))\n",
    "print(\"The dataset has\", int(low['price'].count()), \" of low interest_level\")"
   ]
  },
  {
   "cell_type": "code",
   "execution_count": null,
   "metadata": {},
   "outputs": [],
   "source": []
  }
 ],
 "metadata": {
  "kernelspec": {
   "display_name": "Python 3",
   "language": "python",
   "name": "python3"
  },
  "language_info": {
   "codemirror_mode": {
    "name": "ipython",
    "version": 3
   },
   "file_extension": ".py",
   "mimetype": "text/x-python",
   "name": "python",
   "nbconvert_exporter": "python",
   "pygments_lexer": "ipython3",
   "version": "3.7.4"
  }
 },
 "nbformat": 4,
 "nbformat_minor": 2
}
