{
 "cells": [
  {
   "cell_type": "code",
   "execution_count": 1,
   "metadata": {},
   "outputs": [],
   "source": [
    "import seaborn as sns\n",
    "import numpy as np\n",
    "import datetime as dt\n",
    "import pandas as pd\n",
    "import matplotlib.pyplot as plt\n",
    "import math\n",
    "from sklearn import preprocessing\n",
    "from scipy import sparse\n",
    "import nltk as nltk\n",
    "import cv2\n",
    "import imageio\n",
    "from nltk.corpus import stopwords\n",
    "from nltk.tokenize import word_tokenize \n",
    "from nltk.draw.dispersion import dispersion_plot\n",
    "from sklearn.feature_extraction.text import CountVectorizer\n",
    "from sklearn.model_selection import train_test_split\n",
    "from sklearn.svm import SVC\n",
    "from sklearn.feature_extraction.text import TfidfVectorizer\n",
    "from sklearn.model_selection import KFold \n",
    "from sklearn.preprocessing import MinMaxScaler\n",
    "from sklearn.model_selection import cross_val_score\n",
    "from sklearn.model_selection import GridSearchCV\n",
    "from sklearn.model_selection import RandomizedSearchCV\n",
    "from sklearn.preprocessing import StandardScaler\n",
    "from sklearn.metrics import log_loss\n",
    "from sklearn.metrics import f1_score\n",
    "from sklearn.ensemble import AdaBoostClassifier\n",
    "from sklearn.datasets import make_classification\n",
    "from sklearn.datasets import make_blobs\n",
    "from sklearn.neighbors import NearestCentroid\n",
    "from sklearn.naive_bayes import BernoulliNB\n",
    "from sklearn.impute import SimpleImputer\n",
    "from sklearn.ensemble import RandomForestClassifier\n",
    "from sklearn.tree import DecisionTreeClassifier\n",
    "\n",
    "from sklearn.model_selection import train_test_split\n",
    "from sklearn import datasets\n",
    "from sklearn import svm\n",
    "from sklearn.linear_model import LogisticRegression\n",
    "from sklearn.metrics import classification_report, confusion_matrix\n",
    "import warnings\n",
    "warnings.filterwarnings(\"ignore\")\n",
    "#                         category=DeprecationWarning)\n",
    "\n",
    "\n",
    "pd.set_option('display.max_rows', None)\n",
    "df = pd.read_json('C:/Users/ins/Desktop/459FinalProject/train.json')\n",
    "df_test =  pd.read_json('C:/Users/ins/Desktop/459FinalProject/test.json')\n",
    "#df = pd.read_json('./train.json')\n",
    "#df_test = pd.read_json('./test.json')"
   ]
  },
  {
   "cell_type": "code",
   "execution_count": 2,
   "metadata": {},
   "outputs": [],
   "source": [
    "def describe_features_with_null_values(df):\n",
    "    null_count = df.isnull().sum()\n",
    "    null_values = null_count[null_count > 0]\n",
    "    null_values = null_values.sort_values(ascending = False)\n",
    "    null_perc = null_values*100/len(df)\n",
    "    null = pd.DataFrame(null_values, columns = ['Null Count'])\n",
    "    null['Percentage'] = round(null_perc, 2)\n",
    "    return null"
   ]
  },
  {
   "cell_type": "code",
   "execution_count": 3,
   "metadata": {},
   "outputs": [],
   "source": [
    "def describe_features_with_inf_values(df):\n",
    "    null_count = df.isinf().sum()\n",
    "    null_values = null_count[null_count > 0]\n",
    "    null_values = null_values.sort_values(ascending = False)\n",
    "    null_perc = null_values*100/len(df)\n",
    "    null = pd.DataFrame(null_values, columns = ['Null Count'])\n",
    "    null['Percentage'] = round(null_perc, 2)\n",
    "    return null"
   ]
  },
  {
   "cell_type": "code",
   "execution_count": null,
   "metadata": {},
   "outputs": [],
   "source": [
    "    "
   ]
  },
  {
   "cell_type": "code",
   "execution_count": 4,
   "metadata": {},
   "outputs": [],
   "source": [
    "df_null = describe_features_with_null_values(df)"
   ]
  },
  {
   "cell_type": "code",
   "execution_count": 5,
   "metadata": {},
   "outputs": [],
   "source": [
    "interest_level_map = {'medium':1, 'low':0 , 'high':2}"
   ]
  },
  {
   "cell_type": "code",
   "execution_count": 6,
   "metadata": {},
   "outputs": [],
   "source": [
    "df['interest_level_num'] = df['interest_level'].apply(lambda x: interest_level_map[x])"
   ]
  },
  {
   "cell_type": "code",
   "execution_count": 7,
   "metadata": {},
   "outputs": [],
   "source": [
    "df[\"num_photos\"] = df[\"photos\"].apply(len)\n",
    "df[\"num_features\"] = df[\"features\"].apply(len)\n",
    "df[\"num_words\"] = df[\"description\"].apply(lambda x: len(x.split(\" \")))\n",
    "df[\"price_per_bedroom\"] =df[\"price\"]/df[\"bedrooms\"]\n",
    "df['photo_word'] = df['num_photos'] * df['num_words']\n",
    "df['price_per_feature'] = df['price'] / df['num_features']\n",
    "df['price_per_feature'] = df['price_per_feature'].replace(np.inf , 0)\n",
    "df[\"price_per_bedroom\"] = df['price_per_bedroom'].replace(np.inf , 0)"
   ]
  },
  {
   "cell_type": "code",
   "execution_count": 8,
   "metadata": {},
   "outputs": [
    {
     "data": {
      "text/html": [
       "<div>\n",
       "<style scoped>\n",
       "    .dataframe tbody tr th:only-of-type {\n",
       "        vertical-align: middle;\n",
       "    }\n",
       "\n",
       "    .dataframe tbody tr th {\n",
       "        vertical-align: top;\n",
       "    }\n",
       "\n",
       "    .dataframe thead th {\n",
       "        text-align: right;\n",
       "    }\n",
       "</style>\n",
       "<table border=\"1\" class=\"dataframe\">\n",
       "  <thead>\n",
       "    <tr style=\"text-align: right;\">\n",
       "      <th></th>\n",
       "      <th>bathrooms</th>\n",
       "      <th>bedrooms</th>\n",
       "      <th>building_id</th>\n",
       "      <th>created</th>\n",
       "      <th>description</th>\n",
       "      <th>display_address</th>\n",
       "      <th>features</th>\n",
       "      <th>latitude</th>\n",
       "      <th>listing_id</th>\n",
       "      <th>longitude</th>\n",
       "      <th>manager_id</th>\n",
       "      <th>photos</th>\n",
       "      <th>price</th>\n",
       "      <th>street_address</th>\n",
       "      <th>interest_level</th>\n",
       "      <th>interest_level_num</th>\n",
       "      <th>num_photos</th>\n",
       "      <th>num_features</th>\n",
       "      <th>num_words</th>\n",
       "      <th>price_per_bedroom</th>\n",
       "      <th>photo_word</th>\n",
       "      <th>price_per_feature</th>\n",
       "    </tr>\n",
       "  </thead>\n",
       "  <tbody>\n",
       "    <tr>\n",
       "      <td>4</td>\n",
       "      <td>1.0</td>\n",
       "      <td>1</td>\n",
       "      <td>8579a0b0d54db803821a35a4a615e97a</td>\n",
       "      <td>2016-06-16 05:55:27</td>\n",
       "      <td>Spacious 1 Bedroom 1 Bathroom in Williamsburg!...</td>\n",
       "      <td>145 Borinquen Place</td>\n",
       "      <td>[Dining Room, Pre-War, Laundry in Building, Di...</td>\n",
       "      <td>40.7108</td>\n",
       "      <td>7170325</td>\n",
       "      <td>-73.9539</td>\n",
       "      <td>a10db4590843d78c784171a107bdacb4</td>\n",
       "      <td>[https://photos.renthop.com/2/7170325_3bb5ac84...</td>\n",
       "      <td>2400</td>\n",
       "      <td>145 Borinquen Place</td>\n",
       "      <td>medium</td>\n",
       "      <td>1</td>\n",
       "      <td>12</td>\n",
       "      <td>7</td>\n",
       "      <td>77</td>\n",
       "      <td>2400.0</td>\n",
       "      <td>924</td>\n",
       "      <td>342.857143</td>\n",
       "    </tr>\n",
       "    <tr>\n",
       "      <td>6</td>\n",
       "      <td>1.0</td>\n",
       "      <td>2</td>\n",
       "      <td>b8e75fc949a6cd8225b455648a951712</td>\n",
       "      <td>2016-06-01 05:44:33</td>\n",
       "      <td>BRAND NEW GUT RENOVATED TRUE 2 BEDROOMFind you...</td>\n",
       "      <td>East 44th</td>\n",
       "      <td>[Doorman, Elevator, Laundry in Building, Dishw...</td>\n",
       "      <td>40.7513</td>\n",
       "      <td>7092344</td>\n",
       "      <td>-73.9722</td>\n",
       "      <td>955db33477af4f40004820b4aed804a0</td>\n",
       "      <td>[https://photos.renthop.com/2/7092344_7663c19a...</td>\n",
       "      <td>3800</td>\n",
       "      <td>230 East 44th</td>\n",
       "      <td>low</td>\n",
       "      <td>0</td>\n",
       "      <td>6</td>\n",
       "      <td>6</td>\n",
       "      <td>131</td>\n",
       "      <td>1900.0</td>\n",
       "      <td>786</td>\n",
       "      <td>633.333333</td>\n",
       "    </tr>\n",
       "    <tr>\n",
       "      <td>9</td>\n",
       "      <td>1.0</td>\n",
       "      <td>2</td>\n",
       "      <td>cd759a988b8f23924b5a2058d5ab2b49</td>\n",
       "      <td>2016-06-14 15:19:59</td>\n",
       "      <td>**FLEX 2 BEDROOM WITH FULL PRESSURIZED WALL**L...</td>\n",
       "      <td>East 56th Street</td>\n",
       "      <td>[Doorman, Elevator, Laundry in Building, Laund...</td>\n",
       "      <td>40.7575</td>\n",
       "      <td>7158677</td>\n",
       "      <td>-73.9625</td>\n",
       "      <td>c8b10a317b766204f08e613cef4ce7a0</td>\n",
       "      <td>[https://photos.renthop.com/2/7158677_c897a134...</td>\n",
       "      <td>3495</td>\n",
       "      <td>405 East 56th Street</td>\n",
       "      <td>medium</td>\n",
       "      <td>1</td>\n",
       "      <td>6</td>\n",
       "      <td>6</td>\n",
       "      <td>119</td>\n",
       "      <td>1747.5</td>\n",
       "      <td>714</td>\n",
       "      <td>582.500000</td>\n",
       "    </tr>\n",
       "  </tbody>\n",
       "</table>\n",
       "</div>"
      ],
      "text/plain": [
       "   bathrooms  bedrooms                       building_id              created  \\\n",
       "4        1.0         1  8579a0b0d54db803821a35a4a615e97a  2016-06-16 05:55:27   \n",
       "6        1.0         2  b8e75fc949a6cd8225b455648a951712  2016-06-01 05:44:33   \n",
       "9        1.0         2  cd759a988b8f23924b5a2058d5ab2b49  2016-06-14 15:19:59   \n",
       "\n",
       "                                         description      display_address  \\\n",
       "4  Spacious 1 Bedroom 1 Bathroom in Williamsburg!...  145 Borinquen Place   \n",
       "6  BRAND NEW GUT RENOVATED TRUE 2 BEDROOMFind you...            East 44th   \n",
       "9  **FLEX 2 BEDROOM WITH FULL PRESSURIZED WALL**L...     East 56th Street   \n",
       "\n",
       "                                            features  latitude  listing_id  \\\n",
       "4  [Dining Room, Pre-War, Laundry in Building, Di...   40.7108     7170325   \n",
       "6  [Doorman, Elevator, Laundry in Building, Dishw...   40.7513     7092344   \n",
       "9  [Doorman, Elevator, Laundry in Building, Laund...   40.7575     7158677   \n",
       "\n",
       "   longitude                        manager_id  \\\n",
       "4   -73.9539  a10db4590843d78c784171a107bdacb4   \n",
       "6   -73.9722  955db33477af4f40004820b4aed804a0   \n",
       "9   -73.9625  c8b10a317b766204f08e613cef4ce7a0   \n",
       "\n",
       "                                              photos  price  \\\n",
       "4  [https://photos.renthop.com/2/7170325_3bb5ac84...   2400   \n",
       "6  [https://photos.renthop.com/2/7092344_7663c19a...   3800   \n",
       "9  [https://photos.renthop.com/2/7158677_c897a134...   3495   \n",
       "\n",
       "         street_address interest_level  interest_level_num  num_photos  \\\n",
       "4   145 Borinquen Place         medium                   1          12   \n",
       "6         230 East 44th            low                   0           6   \n",
       "9  405 East 56th Street         medium                   1           6   \n",
       "\n",
       "   num_features  num_words  price_per_bedroom  photo_word  price_per_feature  \n",
       "4             7         77             2400.0         924         342.857143  \n",
       "6             6        131             1900.0         786         633.333333  \n",
       "9             6        119             1747.5         714         582.500000  "
      ]
     },
     "execution_count": 8,
     "metadata": {},
     "output_type": "execute_result"
    }
   ],
   "source": [
    "pd.set_option('display.max_columns', None)\n",
    "df.head(3)"
   ]
  },
  {
   "cell_type": "code",
   "execution_count": 9,
   "metadata": {},
   "outputs": [],
   "source": [
    "df_price = df['price']  \n",
    "IQR = df_price.quantile(0.75)-df_price.quantile(0.25)\n",
    "upper = df_price.quantile(0.75)+IQR*1.5\n",
    "lower = df_price.quantile(0.25)-IQR*1.5 \n",
    "\n",
    "df1 = df[(df['price'] <upper) & (df['price'] >lower)]\n",
    "\n",
    "df_lat = df1['latitude']\n",
    "\n",
    "IQR = df_lat.quantile(0.75)-df_lat.quantile(0.25)\n",
    "upper = df_lat.quantile(0.75)+IQR*1.5\n",
    "lower = df_lat.quantile(0.25)-IQR*1.5\n",
    " \n",
    "df2 = df1[(df1['latitude']<upper) & (df1['latitude']>lower)]\n",
    "\n",
    "df_long = df2['longitude']\n",
    " \n",
    "IQR = df_long.quantile(0.75)-df_long.quantile(0.25)\n",
    "upper = df_long.quantile(0.75)+IQR*1.5\n",
    "lower = df_long.quantile(0.25)-IQR*1.5 \n",
    "df3 = df2[(df2['longitude'] >lower) & (df2['longitude']<upper)]\n",
    "\n",
    "df_bedrooms = df3['bedrooms']\n",
    " \n",
    "IQR = df_bedrooms.quantile(0.75)-df_bedrooms.quantile(0.25)\n",
    "upper = df_bedrooms.quantile(0.75)+IQR*1.5\n",
    "lower = max(df_bedrooms.quantile(0.25)-IQR*1.5, 0)\n",
    " \n",
    "df4 = df3[(df3['bedrooms'] >= lower) & (df3['bedrooms'] <= upper)]\n",
    "\n",
    "df_bathrooms = df4['bathrooms']\n",
    " \n",
    "IQR = df_bathrooms.quantile(0.75)-df_bathrooms.quantile(0.25)\n",
    "\n",
    "upper = math.ceil(df_bathrooms.quantile(0.75)+IQR*1.5)\n",
    "lower = max(df_bathrooms.quantile(0.25)-IQR*1.5, 0)\n",
    "average = sum(df_bathrooms) / len(df_bathrooms)\n",
    "\n",
    "df5 = df4[(df4['bathrooms'] >= lower) & (df4['bathrooms'] <= upper)]\n"
   ]
  },
  {
   "cell_type": "code",
   "execution_count": 10,
   "metadata": {},
   "outputs": [],
   "source": [
    "y = df5[\"interest_level\"] \n",
    "# features_to_use=['interest_level_num','manager_id',\n",
    "#                  \"bedrooms\", \"latitude\", \"longitude\", \"price\",\"num_photos\", \"num_features\", \"num_words\",\"photo_word\",'price_per_feature','price_per_bedroom']\n",
    "features_to_use=['interest_level_num','manager_id', \"bedrooms\", \"latitude\", \"longitude\", \"price\"]\n",
    "\n",
    "X = df5[features_to_use]"
   ]
  },
  {
   "cell_type": "code",
   "execution_count": null,
   "metadata": {},
   "outputs": [],
   "source": []
  },
  {
   "cell_type": "code",
   "execution_count": null,
   "metadata": {},
   "outputs": [],
   "source": []
  },
  {
   "cell_type": "code",
   "execution_count": null,
   "metadata": {},
   "outputs": [],
   "source": []
  },
  {
   "cell_type": "code",
   "execution_count": 11,
   "metadata": {},
   "outputs": [
    {
     "name": "stdout",
     "output_type": "stream",
     "text": [
      "                                  high_interest_percent  low_interest_percent  \\\n",
      "manager_id                                                                      \n",
      "0000abd7518b94c35a90d64b56fbf3e6                    0.0              0.363636   \n",
      "001ce808ce1720e24a9510e014c69707                    0.0              1.000000   \n",
      "00607a02f6efd9c6c7c588826e471ee9                    0.0              0.000000   \n",
      "00995ff28d79127ed2dca8320e9e7d09                    0.0              0.666667   \n",
      "00a8d77892cab18fffaa22a751f1f8eb                    0.0              1.000000   \n",
      "\n",
      "                                  medium_interest_percent  count  \n",
      "manager_id                                                        \n",
      "0000abd7518b94c35a90d64b56fbf3e6                 0.636364     11  \n",
      "001ce808ce1720e24a9510e014c69707                 0.000000      9  \n",
      "00607a02f6efd9c6c7c588826e471ee9                 1.000000      2  \n",
      "00995ff28d79127ed2dca8320e9e7d09                 0.333333      3  \n",
      "00a8d77892cab18fffaa22a751f1f8eb                 0.000000      2  \n"
     ]
    }
   ],
   "source": [
    "temp = pd.concat([X.manager_id,pd.get_dummies(y)], axis = 1).groupby('manager_id').mean()\n",
    "temp.columns = ['high_interest_percent','low_interest_percent', 'medium_interest_percent']\n",
    "temp['count'] = X.groupby('manager_id').count().iloc[:,1]\n",
    "print(temp.head(5))"
   ]
  },
  {
   "cell_type": "code",
   "execution_count": 12,
   "metadata": {},
   "outputs": [
    {
     "data": {
      "text/plain": [
       "manager_id\n",
       "0000abd7518b94c35a90d64b56fbf3e6   -0.045455\n",
       "001ce808ce1720e24a9510e014c69707   -1.000000\n",
       "00607a02f6efd9c6c7c588826e471ee9    0.500000\n",
       "00995ff28d79127ed2dca8320e9e7d09   -0.500000\n",
       "00a8d77892cab18fffaa22a751f1f8eb   -1.000000\n",
       "Name: manager_skill, dtype: float64"
      ]
     },
     "execution_count": 12,
     "metadata": {},
     "output_type": "execute_result"
    }
   ],
   "source": [
    "temp['manager_skill'] =  temp['high_interest_percent'] +  0.5 * temp['medium_interest_percent'] - temp['low_interest_percent']\n",
    "temp['manager_skill'].head()"
   ]
  },
  {
   "cell_type": "markdown",
   "metadata": {},
   "source": [
    "##### manager_skill = high_interest_percent +  0.5 * medium_interest_percent - low_interest_percent"
   ]
  },
  {
   "cell_type": "code",
   "execution_count": 13,
   "metadata": {},
   "outputs": [
    {
     "data": {
      "text/html": [
       "<div>\n",
       "<style scoped>\n",
       "    .dataframe tbody tr th:only-of-type {\n",
       "        vertical-align: middle;\n",
       "    }\n",
       "\n",
       "    .dataframe tbody tr th {\n",
       "        vertical-align: top;\n",
       "    }\n",
       "\n",
       "    .dataframe thead th {\n",
       "        text-align: right;\n",
       "    }\n",
       "</style>\n",
       "<table border=\"1\" class=\"dataframe\">\n",
       "  <thead>\n",
       "    <tr style=\"text-align: right;\">\n",
       "      <th></th>\n",
       "      <th>interest_level_num</th>\n",
       "      <th>manager_id</th>\n",
       "      <th>bedrooms</th>\n",
       "      <th>latitude</th>\n",
       "      <th>longitude</th>\n",
       "      <th>price</th>\n",
       "      <th>manager_skill</th>\n",
       "    </tr>\n",
       "  </thead>\n",
       "  <tbody>\n",
       "    <tr>\n",
       "      <td>0</td>\n",
       "      <td>1</td>\n",
       "      <td>a10db4590843d78c784171a107bdacb4</td>\n",
       "      <td>1</td>\n",
       "      <td>40.7108</td>\n",
       "      <td>-73.9539</td>\n",
       "      <td>2400</td>\n",
       "      <td>-0.400000</td>\n",
       "    </tr>\n",
       "    <tr>\n",
       "      <td>1</td>\n",
       "      <td>0</td>\n",
       "      <td>955db33477af4f40004820b4aed804a0</td>\n",
       "      <td>2</td>\n",
       "      <td>40.7513</td>\n",
       "      <td>-73.9722</td>\n",
       "      <td>3800</td>\n",
       "      <td>-0.022727</td>\n",
       "    </tr>\n",
       "    <tr>\n",
       "      <td>2</td>\n",
       "      <td>1</td>\n",
       "      <td>c8b10a317b766204f08e613cef4ce7a0</td>\n",
       "      <td>2</td>\n",
       "      <td>40.7575</td>\n",
       "      <td>-73.9625</td>\n",
       "      <td>3495</td>\n",
       "      <td>-0.584337</td>\n",
       "    </tr>\n",
       "    <tr>\n",
       "      <td>3</td>\n",
       "      <td>0</td>\n",
       "      <td>2c3b41f588fbb5234d8a1e885a436cfa</td>\n",
       "      <td>0</td>\n",
       "      <td>40.7439</td>\n",
       "      <td>-73.9743</td>\n",
       "      <td>2795</td>\n",
       "      <td>-0.826923</td>\n",
       "    </tr>\n",
       "    <tr>\n",
       "      <td>4</td>\n",
       "      <td>2</td>\n",
       "      <td>9cbfa7a31ae9dfba70b4383636d99788</td>\n",
       "      <td>0</td>\n",
       "      <td>40.7769</td>\n",
       "      <td>-73.9467</td>\n",
       "      <td>1945</td>\n",
       "      <td>-0.314286</td>\n",
       "    </tr>\n",
       "  </tbody>\n",
       "</table>\n",
       "</div>"
      ],
      "text/plain": [
       "   interest_level_num                        manager_id  bedrooms  latitude  \\\n",
       "0                   1  a10db4590843d78c784171a107bdacb4         1   40.7108   \n",
       "1                   0  955db33477af4f40004820b4aed804a0         2   40.7513   \n",
       "2                   1  c8b10a317b766204f08e613cef4ce7a0         2   40.7575   \n",
       "3                   0  2c3b41f588fbb5234d8a1e885a436cfa         0   40.7439   \n",
       "4                   2  9cbfa7a31ae9dfba70b4383636d99788         0   40.7769   \n",
       "\n",
       "   longitude  price  manager_skill  \n",
       "0   -73.9539   2400      -0.400000  \n",
       "1   -73.9722   3800      -0.022727  \n",
       "2   -73.9625   3495      -0.584337  \n",
       "3   -73.9743   2795      -0.826923  \n",
       "4   -73.9467   1945      -0.314286  "
      ]
     },
     "execution_count": 13,
     "metadata": {},
     "output_type": "execute_result"
    }
   ],
   "source": [
    "X = X.merge(temp['manager_skill'], how='left', left_on='manager_id', right_on='manager_id')\n",
    "#X = pd.concat([X,temp['manager_skill']], axis=1, sort=False)\n",
    "X.head()"
   ]
  },
  {
   "cell_type": "code",
   "execution_count": 14,
   "metadata": {},
   "outputs": [],
   "source": [
    "X = X.drop(['manager_id'], axis=1)"
   ]
  },
  {
   "cell_type": "code",
   "execution_count": 15,
   "metadata": {},
   "outputs": [
    {
     "data": {
      "image/png": "[encoded data removed]",
      "text/plain": [
       "<Figure size 864x648 with 2 Axes>"
      ]
     },
     "metadata": {
      "needs_background": "light"
     },
     "output_type": "display_data"
    }
   ],
   "source": [
    "corrmat = X.corr()        # Finds correlation between all the columns\n",
    "f, ax = plt.subplots(figsize=(12, 9))             # Increases the figure size to (12, 9)\n",
    "sns.heatmap(corrmat, vmax = 0.8, square=True,annot=True,cmap=\"RdYlGn\");"
   ]
  },
  {
   "cell_type": "code",
   "execution_count": 16,
   "metadata": {},
   "outputs": [
    {
     "name": "stdout",
     "output_type": "stream",
     "text": [
      "Features which most affects to interest level : \n",
      "\n",
      "interest_level_num    1.000000\n",
      "manager_skill         0.559728\n",
      "bedrooms              0.089819\n",
      "longitude             0.041355\n",
      "latitude             -0.024592\n",
      "price                -0.220212\n",
      "Name: interest_level_num, dtype: float64\n"
     ]
    }
   ],
   "source": [
    "print(\"Features which most affects to interest level : \\n\")\n",
    "related_cols = corrmat.nlargest(20, 'interest_level_num')\n",
    "print(related_cols['interest_level_num'])"
   ]
  },
  {
   "cell_type": "markdown",
   "metadata": {},
   "source": [
    "## Extra Trees Classifier"
   ]
  },
  {
   "cell_type": "code",
   "execution_count": 17,
   "metadata": {},
   "outputs": [
    {
     "name": "stdout",
     "output_type": "stream",
     "text": [
      "[0.0244134  0.17463236 0.17397659 0.23010695 0.3968707 ]\n"
     ]
    },
    {
     "data": {
      "image/png": "[encoded data removed]",
      "text/plain": [
       "<Figure size 432x288 with 1 Axes>"
      ]
     },
     "metadata": {
      "needs_background": "light"
     },
     "output_type": "display_data"
    }
   ],
   "source": [
    "X1 = X.drop(['interest_level_num'], axis=1)\n",
    "\n",
    "from sklearn.ensemble import ExtraTreesClassifier\n",
    "model = ExtraTreesClassifier()\n",
    "model.fit(X1,y)\n",
    "print(model.feature_importances_) #use inbuilt class feature_importances of tree based classifiers\n",
    "#plot graph of feature importances for better visualization\n",
    "feat_importances = pd.Series(model.feature_importances_, index=X1.columns)\n",
    "feat_importances.nlargest(10).plot(kind='barh')\n",
    "plt.show()"
   ]
  },
  {
   "cell_type": "markdown",
   "metadata": {},
   "source": [
    "## Average Rent price by interest_level classes"
   ]
  },
  {
   "cell_type": "code",
   "execution_count": 18,
   "metadata": {},
   "outputs": [
    {
     "name": "stdout",
     "output_type": "stream",
     "text": [
      "For high interest level: \n",
      "The average rent price is $ 2589\n",
      "The median rent price is $ 2495\n",
      "The standard deviation is $ 777\n",
      "The dataset has 2849 number of records\n",
      "-------------------------\n",
      "For medium interest level: \n",
      "The average rent price is $ 2869\n",
      "The median rent price is $ 2759\n",
      "The standard deviation is $ 772\n",
      "The dataset has 8596 number of records\n",
      "-------------------------\n",
      "For low interest level: \n",
      "The average rent price is $ 3184\n",
      "The median rent price is $ 3090\n",
      "The standard deviation is $ 877\n",
      "The dataset has 24961 number of records\n"
     ]
    }
   ],
   "source": [
    "print(\"Average Rent Price\")\n",
    "high = df5[df5['interest_level'] == \"high\"]\n",
    "print(\"For high interest level: \")\n",
    "print(\"The average rent price is $\", int(high['price'].mean()))\n",
    "print(\"The median rent price is $\", int(high['price'].median()))\n",
    "print(\"The standard deviation is $\", int(high['price'].std()))\n",
    "print(\"The dataset has\", int(high['price'].count()), \"number of records\")\n",
    "print(\"-------------------------\")\n",
    "medium = df5[df5['interest_level'] == \"medium\"]\n",
    "print(\"For medium interest level: \")\n",
    "print(\"The average rent price is $\", int(medium['price'].mean()))\n",
    "print(\"The median rent price is $\", int(medium['price'].median()))\n",
    "print(\"The standard deviation is $\", int(medium['price'].std()))\n",
    "print(\"The dataset has\", int(medium['price'].count()), \"number of records\")\n",
    "print(\"-------------------------\")\n",
    "low = df5[df5['interest_level'] == \"low\"]\n",
    "print(\"For low interest level: \")\n",
    "print(\"The average rent price is $\", int(low['price'].mean()))\n",
    "print(\"The median rent price is $\", int(low['price'].median()))\n",
    "print(\"The standard deviation is $\", int(low['price'].std()))\n",
    "print(\"The dataset has\", int(low['price'].count()), \"number of records\")"
   ]
  },
  {
   "cell_type": "code",
   "execution_count": 19,
   "metadata": {},
   "outputs": [
    {
     "name": "stdout",
     "output_type": "stream",
     "text": [
      "For low interest level: \n",
      "The average rent price is $ 3184\n",
      "The median rent price is $ 3090\n",
      "The standard deviation is $ 877\n",
      "The dataset has 24961 number of records\n"
     ]
    }
   ],
   "source": [
    "low = df5[df5['interest_level'] == \"low\"]\n",
    "print(\"For low interest level: \")\n",
    "print(\"The average rent price is $\", int(low['price'].mean()))\n",
    "print(\"The median rent price is $\", int(low['price'].median()))\n",
    "print(\"The standard deviation is $\", int(low['price'].std()))\n",
    "print(\"The dataset has\", int(low['price'].count()), \"number of records\")"
   ]
  },
  {
   "cell_type": "code",
   "execution_count": 20,
   "metadata": {},
   "outputs": [
    {
     "data": {
      "image/png": "[encoded data removed]",
      "text/plain": [
       "<Figure size 432x288 with 1 Axes>"
      ]
     },
     "metadata": {
      "needs_background": "light"
     },
     "output_type": "display_data"
    }
   ],
   "source": [
    "counts, bins = np.histogram( high['price'])\n",
    "_ = plt.hist(bins[:-1], bins, weights = counts)\n",
    "_ = plt.xlabel('Price ($)')\n",
    "_ = plt.ylabel('Number of records')\n",
    "_ = plt.title('For high interest level')"
   ]
  },
  {
   "cell_type": "code",
   "execution_count": 21,
   "metadata": {},
   "outputs": [
    {
     "data": {
      "image/png": "[encoded data removed]",
      "text/plain": [
       "<Figure size 432x288 with 1 Axes>"
      ]
     },
     "metadata": {
      "needs_background": "light"
     },
     "output_type": "display_data"
    }
   ],
   "source": [
    "counts, bins = np.histogram( medium['price'])\n",
    "_ = plt.hist(bins[:-1], bins, weights = counts)\n",
    "_ = plt.xlabel('Price ($)')\n",
    "_ = plt.ylabel('Number of records')\n",
    "_ = plt.title('For medium interest level')"
   ]
  },
  {
   "cell_type": "code",
   "execution_count": 22,
   "metadata": {},
   "outputs": [
    {
     "data": {
      "image/png": "[encoded data removed]",
      "text/plain": [
       "<Figure size 432x288 with 1 Axes>"
      ]
     },
     "metadata": {
      "needs_background": "light"
     },
     "output_type": "display_data"
    }
   ],
   "source": [
    "counts, bins = np.histogram( low['price'])\n",
    "_ = plt.hist(bins[:-1], bins, weights = counts)\n",
    "_ = plt.xlabel('Price ($)')\n",
    "_ = plt.ylabel('Number of records')\n",
    "_ = plt.title('For low interest level')"
   ]
  },
  {
   "cell_type": "markdown",
   "metadata": {},
   "source": [
    "## Average manager skill by interest_level classes"
   ]
  },
  {
   "cell_type": "code",
   "execution_count": 23,
   "metadata": {},
   "outputs": [
    {
     "name": "stdout",
     "output_type": "stream",
     "text": [
      "For high interest level: \n",
      "The average manager skill is 0.0352 \n",
      "The median manager skill is 0.0000\n",
      "The standard deviation is 0.4336\n",
      "The sum of all the manager skill is 100.27\n",
      "The dataset has 2849 number of records\n",
      "-------------------------\n",
      "For medium interest level: \n",
      "The average manager skill is -0.1921\n",
      "The median manager skill is -0.2237\n",
      "The standard deviation is 0.3745\n",
      "The sum of all the manager skill is -1651.61\n",
      "The dataset has 8596 number of records\n",
      "-------------------------\n",
      "For low interest level: \n",
      "The average manager skill is -0.6515\n",
      "The median manager skill is -0.7188\n",
      "The standard deviation is 0.3397\n",
      "The sum of all the manager skill is -16262.66\n",
      "The dataset has 24961 number of records\n"
     ]
    }
   ],
   "source": [
    "high = X[X['interest_level_num'] == 2]\n",
    "print(\"For high interest level: \")\n",
    "print(\"The average manager skill is %.4f \" %high['manager_skill'].mean())\n",
    "print(\"The median manager skill is %.4f\" %high['manager_skill'].median())\n",
    "print(\"The standard deviation is %.4f\" %high['manager_skill'].std())\n",
    "print(\"The sum of all the manager skill is %.2f\" %high['manager_skill'].sum())\n",
    "print(\"The dataset has\", high['manager_skill'].count(), \"number of records\")\n",
    "print(\"-------------------------\")\n",
    "medium = X[X['interest_level_num'] == 1]\n",
    "print(\"For medium interest level: \")\n",
    "print(\"The average manager skill is %.4f\" %medium['manager_skill'].mean())\n",
    "print(\"The median manager skill is %.4f\" %medium['manager_skill'].median())\n",
    "print(\"The standard deviation is %.4f\" %medium['manager_skill'].std())\n",
    "print(\"The sum of all the manager skill is %.2f\" %medium['manager_skill'].sum())\n",
    "print(\"The dataset has\", medium['manager_skill'].count(), \"number of records\")\n",
    "print(\"-------------------------\")\n",
    "low = X[X['interest_level_num'] == 0]\n",
    "print(\"For low interest level: \")\n",
    "print(\"The average manager skill is %.4f\" %low['manager_skill'].mean())\n",
    "print(\"The median manager skill is %.4f\" %low['manager_skill'].median())\n",
    "print(\"The standard deviation is %.4f\" % low['manager_skill'].std())\n",
    "print(\"The sum of all the manager skill is %.2f\" %low['manager_skill'].sum())\n",
    "print(\"The dataset has\", low['manager_skill'].count(), \"number of records\")\n"
   ]
  },
  {
   "cell_type": "code",
   "execution_count": 24,
   "metadata": {},
   "outputs": [
    {
     "name": "stdout",
     "output_type": "stream",
     "text": [
      "For low interest level: \n",
      "The average manager skill is -0.6515\n",
      "The median manager skill is -0.7188\n",
      "The standard deviation is 0.3397\n",
      "The sum of all the manager skill is -16262.66\n",
      "The dataset has 24961 number of records\n"
     ]
    }
   ],
   "source": [
    "low = X[X['interest_level_num'] == 0]\n",
    "print(\"For low interest level: \")\n",
    "print(\"The average manager skill is %.4f\" %low['manager_skill'].mean())\n",
    "print(\"The median manager skill is %.4f\" %low['manager_skill'].median())\n",
    "print(\"The standard deviation is %.4f\" % low['manager_skill'].std())\n",
    "print(\"The sum of all the manager skill is %.2f\" %low['manager_skill'].sum())\n",
    "print(\"The dataset has\", low['manager_skill'].count(), \"number of records\")\n"
   ]
  },
  {
   "cell_type": "code",
   "execution_count": 25,
   "metadata": {},
   "outputs": [
    {
     "data": {
      "image/png": "[encoded data removed]",
      "text/plain": [
       "<Figure size 432x288 with 1 Axes>"
      ]
     },
     "metadata": {
      "needs_background": "light"
     },
     "output_type": "display_data"
    }
   ],
   "source": [
    "counts, bins = np.histogram( high['manager_skill'])\n",
    "_ = plt.hist(bins[:-1], bins, weights = counts)\n",
    "_ = plt.xlabel('Manager Skill')\n",
    "_ = plt.ylabel('Number of records')\n",
    "_ = plt.title('For high interest level')"
   ]
  },
  {
   "cell_type": "code",
   "execution_count": 26,
   "metadata": {},
   "outputs": [
    {
     "data": {
      "image/png": "[encoded data removed]",
      "text/plain": [
       "<Figure size 432x288 with 1 Axes>"
      ]
     },
     "metadata": {
      "needs_background": "light"
     },
     "output_type": "display_data"
    }
   ],
   "source": [
    "counts, bins = np.histogram( medium['manager_skill'])\n",
    "_ = plt.hist(bins[:-1], bins, weights = counts)\n",
    "_ = plt.xlabel('Manager Skill')\n",
    "_ = plt.ylabel('For medium interest level')\n",
    "_ = plt.title('For medium interest level')"
   ]
  },
  {
   "cell_type": "code",
   "execution_count": 27,
   "metadata": {},
   "outputs": [
    {
     "data": {
      "image/png": "[encoded data removed]",
      "text/plain": [
       "<Figure size 432x288 with 1 Axes>"
      ]
     },
     "metadata": {
      "needs_background": "light"
     },
     "output_type": "display_data"
    }
   ],
   "source": [
    "counts, bins = np.histogram( low['manager_skill'])\n",
    "_ = plt.hist(bins[:-1], bins, weights = counts)\n",
    "_ = plt.xlabel('Manager Skill')\n",
    "_ = plt.ylabel('For low interest level')\n",
    "_ = plt.title('For low interest level')"
   ]
  },
  {
   "cell_type": "code",
   "execution_count": null,
   "metadata": {},
   "outputs": [],
   "source": []
  }
 ],
 "metadata": {
  "kernelspec": {
   "display_name": "Python 3",
   "language": "python",
   "name": "python3"
  },
  "language_info": {
   "codemirror_mode": {
    "name": "ipython",
    "version": 3
   },
   "file_extension": ".py",
   "mimetype": "text/x-python",
   "name": "python",
   "nbconvert_exporter": "python",
   "pygments_lexer": "ipython3",
   "version": "3.7.4"
  }
 },
 "nbformat": 4,
 "nbformat_minor": 2
}
